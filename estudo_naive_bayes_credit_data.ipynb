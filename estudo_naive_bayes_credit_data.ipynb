{
 "cells": [
  {
   "cell_type": "markdown",
   "metadata": {},
   "source": [
    "# Estudo Algoritmo de Classificação Naive Bayes\n",
    "- O objetivo deste notebook é o estudo do algoritmo de classificação Naive Bayes do scikit-learn.\n",
    "- Vamos utilizar nesse estudo o data set 'credit-data.csv'.\n",
    "- Este dataset contém 5 atributos e 2.000 instâncias (linhas). \n",
    "\n",
    "  <h2>Principais Vantagens x Desvantagens </h2>\n",
    "- <h3>Vantagens </h3>\n",
    "- Rápido\n",
    "- Simplicidade de interpretação\n",
    "- Trabalha com altas dimensões\n",
    "- Boas previsões em bases pequenas\n",
    "-  <h3>Desvantagem </h3>\n",
    "- Combinação de características (atributos independentes) – cada par de características são independentes (nem sempre é verdade)"
   ]
  },
  {
   "cell_type": "code",
   "execution_count": 1,
   "metadata": {},
   "outputs": [],
   "source": [
    "# Importando as bibliotecas iniciais\n",
    "import pandas as pd\n",
    "import numpy as np"
   ]
  },
  {
   "cell_type": "code",
   "execution_count": 2,
   "metadata": {},
   "outputs": [],
   "source": [
    "# Importa o dataset\n",
    "base = pd.read_csv('./credit-data.csv')\n"
   ]
  },
  {
   "cell_type": "code",
   "execution_count": 3,
   "metadata": {},
   "outputs": [
    {
     "data": {
      "text/plain": [
       "(2000, 5)"
      ]
     },
     "execution_count": 3,
     "metadata": {},
     "output_type": "execute_result"
    }
   ],
   "source": [
    "# Verificando o shape do dataset\n",
    "base.shape\n"
   ]
  },
  {
   "cell_type": "code",
   "execution_count": 4,
   "metadata": {},
   "outputs": [
    {
     "data": {
      "text/html": [
       "<div>\n",
       "<style scoped>\n",
       "    .dataframe tbody tr th:only-of-type {\n",
       "        vertical-align: middle;\n",
       "    }\n",
       "\n",
       "    .dataframe tbody tr th {\n",
       "        vertical-align: top;\n",
       "    }\n",
       "\n",
       "    .dataframe thead th {\n",
       "        text-align: right;\n",
       "    }\n",
       "</style>\n",
       "<table border=\"1\" class=\"dataframe\">\n",
       "  <thead>\n",
       "    <tr style=\"text-align: right;\">\n",
       "      <th></th>\n",
       "      <th>clientid</th>\n",
       "      <th>income</th>\n",
       "      <th>age</th>\n",
       "      <th>loan</th>\n",
       "      <th>default</th>\n",
       "    </tr>\n",
       "  </thead>\n",
       "  <tbody>\n",
       "    <tr>\n",
       "      <th>0</th>\n",
       "      <td>1</td>\n",
       "      <td>66155.925095</td>\n",
       "      <td>59.017015</td>\n",
       "      <td>8106.532131</td>\n",
       "      <td>0</td>\n",
       "    </tr>\n",
       "    <tr>\n",
       "      <th>1</th>\n",
       "      <td>2</td>\n",
       "      <td>34415.153966</td>\n",
       "      <td>48.117153</td>\n",
       "      <td>6564.745018</td>\n",
       "      <td>0</td>\n",
       "    </tr>\n",
       "    <tr>\n",
       "      <th>2</th>\n",
       "      <td>3</td>\n",
       "      <td>57317.170063</td>\n",
       "      <td>63.108049</td>\n",
       "      <td>8020.953296</td>\n",
       "      <td>0</td>\n",
       "    </tr>\n",
       "    <tr>\n",
       "      <th>3</th>\n",
       "      <td>4</td>\n",
       "      <td>42709.534201</td>\n",
       "      <td>45.751972</td>\n",
       "      <td>6103.642260</td>\n",
       "      <td>0</td>\n",
       "    </tr>\n",
       "    <tr>\n",
       "      <th>4</th>\n",
       "      <td>5</td>\n",
       "      <td>66952.688845</td>\n",
       "      <td>18.584336</td>\n",
       "      <td>8770.099235</td>\n",
       "      <td>1</td>\n",
       "    </tr>\n",
       "  </tbody>\n",
       "</table>\n",
       "</div>"
      ],
      "text/plain": [
       "   clientid        income        age         loan  default\n",
       "0         1  66155.925095  59.017015  8106.532131        0\n",
       "1         2  34415.153966  48.117153  6564.745018        0\n",
       "2         3  57317.170063  63.108049  8020.953296        0\n",
       "3         4  42709.534201  45.751972  6103.642260        0\n",
       "4         5  66952.688845  18.584336  8770.099235        1"
      ]
     },
     "execution_count": 4,
     "metadata": {},
     "output_type": "execute_result"
    }
   ],
   "source": [
    "# Visualiza as primeira linhas\n",
    "base.head()"
   ]
  },
  {
   "cell_type": "markdown",
   "metadata": {},
   "source": [
    "# Pré-processamento - Tratamento dos dados"
   ]
  },
  {
   "cell_type": "code",
   "execution_count": 5,
   "metadata": {},
   "outputs": [],
   "source": [
    "# Trata as idades negativas \n",
    "base.loc[base.age<0, 'age'] = 40.92"
   ]
  },
  {
   "cell_type": "code",
   "execution_count": 6,
   "metadata": {},
   "outputs": [
    {
     "data": {
      "text/plain": [
       "array([[  6.61559251e+04,   5.90170151e+01,   8.10653213e+03],\n",
       "       [  3.44151540e+04,   4.81171531e+01,   6.56474502e+03],\n",
       "       [  5.73171701e+04,   6.31080495e+01,   8.02095330e+03],\n",
       "       ..., \n",
       "       [  4.43114493e+04,   2.80171669e+01,   5.52278669e+03],\n",
       "       [  4.37560566e+04,   6.39717958e+01,   1.62272260e+03],\n",
       "       [  6.94365796e+04,   5.61526170e+01,   7.37883360e+03]])"
      ]
     },
     "execution_count": 6,
     "metadata": {},
     "output_type": "execute_result"
    }
   ],
   "source": [
    "# Seleciona os atributos previsores\n",
    "previsores = base.iloc[:, 1:4].values\n",
    "previsores"
   ]
  },
  {
   "cell_type": "code",
   "execution_count": 7,
   "metadata": {},
   "outputs": [],
   "source": [
    "# Seleciona a classe alvo (target)\n",
    "classe = base.iloc[:,4]"
   ]
  },
  {
   "cell_type": "code",
   "execution_count": 8,
   "metadata": {},
   "outputs": [],
   "source": [
    "# SimpleImputer para tratar os valores não informados - desconhecidos\n",
    "from sklearn.impute import SimpleImputer\n",
    "imp_mean = SimpleImputer(missing_values=np.nan, strategy='mean')\n",
    "imp_mean.fit(previsores[:,1:4])\n",
    "previsores[:,1:4] = imp_mean.transform(previsores[:,1:4] )\n"
   ]
  },
  {
   "cell_type": "code",
   "execution_count": 9,
   "metadata": {},
   "outputs": [],
   "source": [
    "# StandardScaler para coloca todos os valores na mesma escala\n",
    "from sklearn.preprocessing import StandardScaler\n",
    "scaler = StandardScaler()\n",
    "previsores = scaler.fit_transform(previsores)"
   ]
  },
  {
   "cell_type": "code",
   "execution_count": 10,
   "metadata": {},
   "outputs": [],
   "source": [
    "# Separa os dados pata treinamento e teste\n",
    "from sklearn.model_selection import train_test_split\n",
    "previsores_treinamento, previsores_teste, classe_treinamento, classe_teste = train_test_split(previsores, classe , test_size = 0.25, random_state = 0)\n"
   ]
  },
  {
   "cell_type": "markdown",
   "metadata": {},
   "source": [
    "# Criando o Modelo de Previsão"
   ]
  },
  {
   "cell_type": "code",
   "execution_count": 11,
   "metadata": {},
   "outputs": [
    {
     "data": {
      "text/plain": [
       "GaussianNB(priors=None, var_smoothing=1e-09)"
      ]
     },
     "execution_count": 11,
     "metadata": {},
     "output_type": "execute_result"
    }
   ],
   "source": [
    "# Cria o modelo de previsão Naive Bayes\n",
    "from sklearn.naive_bayes import GaussianNB\n",
    "classificador = GaussianNB()\n",
    "classificador.fit(previsores_treinamento, classe_treinamento)"
   ]
  },
  {
   "cell_type": "code",
   "execution_count": 12,
   "metadata": {},
   "outputs": [],
   "source": [
    "# Realizando o testes do modelo\n",
    "classe_prevista_teste = classificador.predict(previsores_teste)"
   ]
  },
  {
   "cell_type": "markdown",
   "metadata": {},
   "source": [
    "# Verificando a performance do Modelo"
   ]
  },
  {
   "cell_type": "code",
   "execution_count": 13,
   "metadata": {},
   "outputs": [
    {
     "name": "stdout",
     "output_type": "stream",
     "text": [
      "Acurácia do Modelo: 93.80% \n"
     ]
    }
   ],
   "source": [
    "# Analisando a performance do Modelo\n",
    "from sklearn.metrics import confusion_matrix, accuracy_score,classification_report\n",
    "precisao_modelo = accuracy_score(classe_teste, classe_prevista_teste)\n",
    "print('Acurácia do Modelo: %.2f%% ' % (precisao_modelo*100))\n"
   ]
  },
  {
   "cell_type": "code",
   "execution_count": 14,
   "metadata": {},
   "outputs": [
    {
     "name": "stdout",
     "output_type": "stream",
     "text": [
      "\tRelatório de Classificação do modelo\n",
      "              precision    recall  f1-score   support\n",
      "\n",
      "           0     0.9490    0.9817    0.9651       436\n",
      "           1     0.8367    0.6406    0.7257        64\n",
      "\n",
      "   micro avg     0.9380    0.9380    0.9380       500\n",
      "   macro avg     0.8929    0.8111    0.8454       500\n",
      "weighted avg     0.9346    0.9380    0.9344       500\n",
      "\n"
     ]
    }
   ],
   "source": [
    "# Relatório de Classificação\n",
    "from sklearn.metrics import classification_report\n",
    "\n",
    "#precision -  daqueles que classifiquei como corretos, quantos efetivamente estavam corretos? \n",
    "#recall    -  quando realmente é da classe XPTO, o quão frequente você classifica como XPTO?\n",
    "#f1-score  -  balanço entre a precisão e o recall. Combina precisão e recall em um número único que indique a qualidade geral do seu modelo (quanto maior melhor o modelo).\n",
    "#support   -  número de ocorrência de cada classe.\n",
    "\n",
    "relatorio_classificacao = classification_report(classe_teste, classe_prevista_teste ,digits=4)\n",
    "\n",
    "# Imprimindo o relatório\n",
    "print('\\tRelatório de Classificação do modelo')\n",
    "print(relatorio_classificacao)"
   ]
  },
  {
   "cell_type": "code",
   "execution_count": 15,
   "metadata": {},
   "outputs": [
    {
     "name": "stdout",
     "output_type": "stream",
     "text": [
      "\n",
      "\n",
      "Obs.: Nas linhas temos as Classes reais e nas colunas as Classes previstas.\n",
      "\n",
      "Matriz de Confusão\n"
     ]
    },
    {
     "data": {
      "text/html": [
       "<div>\n",
       "<style scoped>\n",
       "    .dataframe tbody tr th:only-of-type {\n",
       "        vertical-align: middle;\n",
       "    }\n",
       "\n",
       "    .dataframe tbody tr th {\n",
       "        vertical-align: top;\n",
       "    }\n",
       "\n",
       "    .dataframe thead th {\n",
       "        text-align: right;\n",
       "    }\n",
       "</style>\n",
       "<table border=\"1\" class=\"dataframe\">\n",
       "  <thead>\n",
       "    <tr style=\"text-align: right;\">\n",
       "      <th></th>\n",
       "      <th>0</th>\n",
       "      <th>1</th>\n",
       "    </tr>\n",
       "  </thead>\n",
       "  <tbody>\n",
       "    <tr>\n",
       "      <th>0</th>\n",
       "      <td>428</td>\n",
       "      <td>8</td>\n",
       "    </tr>\n",
       "    <tr>\n",
       "      <th>1</th>\n",
       "      <td>23</td>\n",
       "      <td>41</td>\n",
       "    </tr>\n",
       "  </tbody>\n",
       "</table>\n",
       "</div>"
      ],
      "text/plain": [
       "     0   1\n",
       "0  428   8\n",
       "1   23  41"
      ]
     },
     "execution_count": 15,
     "metadata": {},
     "output_type": "execute_result"
    }
   ],
   "source": [
    "# Visualizando a Matriz de confusão (confusion matrix)\n",
    "from sklearn.metrics import confusion_matrix\n",
    "cm = confusion_matrix(classe_teste, classe_prevista_teste) \n",
    "\n",
    "df_cm = pd.DataFrame(cm)\n",
    "\n",
    "print('\\n')\n",
    "print('Obs.: Nas linhas temos as Classes reais e nas colunas as Classes previstas.\\n')\n",
    "print('Matriz de Confusão')\n",
    "df_cm"
   ]
  },
  {
   "cell_type": "code",
   "execution_count": 16,
   "metadata": {},
   "outputs": [
    {
     "name": "stdout",
     "output_type": "stream",
     "text": [
      "O modelo ACERTOU 469 classes e ERROU 31 classes.\n",
      "\n"
     ]
    },
    {
     "data": {
      "text/html": [
       "<div>\n",
       "<style scoped>\n",
       "    .dataframe tbody tr th:only-of-type {\n",
       "        vertical-align: middle;\n",
       "    }\n",
       "\n",
       "    .dataframe tbody tr th {\n",
       "        vertical-align: top;\n",
       "    }\n",
       "\n",
       "    .dataframe thead th {\n",
       "        text-align: right;\n",
       "    }\n",
       "</style>\n",
       "<table border=\"1\" class=\"dataframe\">\n",
       "  <thead>\n",
       "    <tr style=\"text-align: right;\">\n",
       "      <th></th>\n",
       "      <th>Classe_Prevista</th>\n",
       "      <th>Classe_Real</th>\n",
       "    </tr>\n",
       "    <tr>\n",
       "      <th>Comparacao</th>\n",
       "      <th></th>\n",
       "      <th></th>\n",
       "    </tr>\n",
       "  </thead>\n",
       "  <tbody>\n",
       "    <tr>\n",
       "      <th>False</th>\n",
       "      <td>31</td>\n",
       "      <td>31</td>\n",
       "    </tr>\n",
       "    <tr>\n",
       "      <th>True</th>\n",
       "      <td>469</td>\n",
       "      <td>469</td>\n",
       "    </tr>\n",
       "  </tbody>\n",
       "</table>\n",
       "</div>"
      ],
      "text/plain": [
       "            Classe_Prevista  Classe_Real\n",
       "Comparacao                              \n",
       "False                    31           31\n",
       "True                    469          469"
      ]
     },
     "execution_count": 16,
     "metadata": {},
     "output_type": "execute_result"
    }
   ],
   "source": [
    "# Comparando a Classe Prevista com a Classe Real\n",
    "\n",
    "df = pd.DataFrame( )\n",
    "df['Classe_Prevista'] = classe_prevista_teste\n",
    "df['Classe_Real'] = classe_teste.values\n",
    "df['Comparacao'] = df['Classe_Prevista'] == df['Classe_Real']\n",
    "\n",
    "df_comparacao = df.groupby(by='Comparacao').count()\n",
    "\n",
    "print('O modelo ACERTOU %d classes e ERROU %d classes.\\n' % (df_comparacao.iloc[[1], [0]].values, df_comparacao.iloc[[0], [0]].values))\n",
    "\n",
    "df_comparacao"
   ]
  },
  {
   "cell_type": "code",
   "execution_count": null,
   "metadata": {},
   "outputs": [],
   "source": []
  },
  {
   "cell_type": "code",
   "execution_count": null,
   "metadata": {},
   "outputs": [],
   "source": []
  }
 ],
 "metadata": {
  "kernelspec": {
   "display_name": "Python 3",
   "language": "python",
   "name": "python3"
  },
  "language_info": {
   "codemirror_mode": {
    "name": "ipython",
    "version": 3
   },
   "file_extension": ".py",
   "mimetype": "text/x-python",
   "name": "python",
   "nbconvert_exporter": "python",
   "pygments_lexer": "ipython3",
   "version": "3.6.8"
  }
 },
 "nbformat": 4,
 "nbformat_minor": 2
}
